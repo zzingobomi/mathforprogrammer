{
 "cells": [
  {
   "cell_type": "code",
   "execution_count": 1,
   "metadata": {},
   "outputs": [],
   "source": [
    "%load_ext autoreload\n",
    "%autoreload 2\n",
    "from vector_drawing import *\n",
    "from math import sqrt"
   ]
  },
  {
   "cell_type": "code",
   "execution_count": 2,
   "metadata": {},
   "outputs": [],
   "source": [
    "def add(*vectors):    \n",
    "    return (sum([v[0] for v in vectors]), sum([v[1] for v in vectors]))\n"
   ]
  },
  {
   "cell_type": "code",
   "execution_count": 3,
   "metadata": {},
   "outputs": [
    {
     "data": {
      "text/plain": [
       "[(1, 1), (1, 2), (-2, -2)]"
      ]
     },
     "execution_count": 3,
     "metadata": {},
     "output_type": "execute_result"
    }
   ],
   "source": [
    "def translate(translation, vectors):\n",
    "    return [(v[0] + translation[0], v[1] + translation[1]) for v in vectors]\n",
    "\n",
    "translate((1, 1), [(0, 0), (0, 1), (-3, -3)])"
   ]
  },
  {
   "cell_type": "code",
   "execution_count": 4,
   "metadata": {},
   "outputs": [],
   "source": [
    "dino_vectors = [(6,4), (3,1), (1,2), (-1,5), (-2,5), (-3,4), (-4,4),\n",
    "    (-5,3), (-5,2), (-2,2), (-5,1), (-4,0), (-2,1), (-1,0), (0,-3),\n",
    "    (-1,-4), (1,-4), (2,-3), (1,-2), (3,-1), (5,1)\n",
    "]\n",
    "\n",
    "width = max([v[0] for v in dino_vectors]) - min([v[0] for v in dino_vectors])\n",
    "height = max([v[1] for v in dino_vectors]) - min([v[1] for v in dino_vectors])\n",
    "\n",
    "dinos = []\n",
    "\n",
    "# draw_vectors  = []\n",
    "# for i in range(10):\n",
    "#     for j in range(10):\n",
    "#         draw_vectors += [add(v, (width*j, height*i)) for v in dino_vectors]\n",
    "\n",
    "# draw(\n",
    "#     Polygon(*draw_vectors)\n",
    "# )"
   ]
  },
  {
   "cell_type": "code",
   "execution_count": 5,
   "metadata": {},
   "outputs": [
    {
     "data": {
      "text/plain": [
       "13.0"
      ]
     },
     "execution_count": 5,
     "metadata": {},
     "output_type": "execute_result"
    }
   ],
   "source": [
    "def vector_length(v):\n",
    "    return sqrt(v[0]**2 + v[1]**2)\n",
    "\n",
    "vector_length((-6, -6))\n",
    "vector_length((5, -12))"
   ]
  },
  {
   "cell_type": "code",
   "execution_count": 6,
   "metadata": {},
   "outputs": [
    {
     "data": {
      "text/plain": [
       "5.916079783099616"
      ]
     },
     "execution_count": 6,
     "metadata": {},
     "output_type": "execute_result"
    }
   ],
   "source": [
    "sqrt(35)"
   ]
  },
  {
   "cell_type": "code",
   "execution_count": 7,
   "metadata": {},
   "outputs": [
    {
     "data": {
      "text/plain": [
       "(6, 4)"
      ]
     },
     "execution_count": 7,
     "metadata": {},
     "output_type": "execute_result"
    }
   ],
   "source": [
    "# max_vector_length = 0\n",
    "# max_vector = None\n",
    "# for v in dino_vectors:\n",
    "#     tmp_len = vector_length(v)\n",
    "#     if tmp_len > max_vector_length:\n",
    "#         max_vector = v\n",
    "#         max_vector_length = tmp_len\n",
    "\n",
    "# display(max_vector)\n",
    "\n",
    "max(dino_vectors, key=vector_length)"
   ]
  },
  {
   "cell_type": "code",
   "execution_count": 8,
   "metadata": {},
   "outputs": [],
   "source": [
    "def scale(s, v):\n",
    "    return (v[0]*s, v[1]*s)"
   ]
  },
  {
   "cell_type": "code",
   "execution_count": 9,
   "metadata": {},
   "outputs": [],
   "source": [
    "def subtract(v1, v2):\n",
    "    return (v1[0] - v2[0], v1[1] - v2[1])"
   ]
  },
  {
   "cell_type": "code",
   "execution_count": 13,
   "metadata": {},
   "outputs": [
    {
     "data": {
      "text/plain": [
       "44.77115093694563"
      ]
     },
     "execution_count": 13,
     "metadata": {},
     "output_type": "execute_result"
    }
   ],
   "source": [
    "def distance(v1, v2):\n",
    "    return vector_length(subtract(v1, v2))\n",
    "\n",
    "# def perimeter(vectors):\n",
    "#     tot = 0\n",
    "#     for i in range(len(vectors)-1):\n",
    "#         tot += distance(vectors[i], vectors[i+1])\n",
    "#     tot += distance(vectors[len(vectors)-1], vectors[0])\n",
    "#     return tot\n",
    "\n",
    "def perimeter(vectors):\n",
    "    distances = [distance(vectors[i], vectors[(i+1)%len(vectors)]) for i in range(0, len(vectors))]\n",
    "    return sum(distances)\n",
    "\n",
    "perimeter(dino_vectors)"
   ]
  },
  {
   "cell_type": "code",
   "execution_count": 14,
   "metadata": {},
   "outputs": [],
   "source": [
    "u = (1, -1)\n",
    "  "
   ]
  },
  {
   "attachments": {},
   "cell_type": "markdown",
   "metadata": {},
   "source": [
    "# Angles and trigonometry in the plane"
   ]
  },
  {
   "cell_type": "code",
   "execution_count": 15,
   "metadata": {},
   "outputs": [
    {
     "data": {
      "text/plain": [
       "2.9963310898497184"
      ]
     },
     "execution_count": 15,
     "metadata": {},
     "output_type": "execute_result"
    }
   ],
   "source": [
    "vector_length((-1.34, 2.68))"
   ]
  },
  {
   "cell_type": "code",
   "execution_count": 17,
   "metadata": {},
   "outputs": [
    {
     "data": {
      "text/plain": [
       "0.4"
      ]
     },
     "execution_count": 17,
     "metadata": {},
     "output_type": "execute_result"
    }
   ],
   "source": [
    "4/10"
   ]
  },
  {
   "cell_type": "code",
   "execution_count": 18,
   "metadata": {},
   "outputs": [
    {
     "data": {
      "text/plain": [
       "(11.979532650709393, 9.027225347280725)"
      ]
     },
     "execution_count": 18,
     "metadata": {},
     "output_type": "execute_result"
    }
   ],
   "source": [
    "from math import sin, cos\n",
    "def to_cartesian(polar_vector):\n",
    "    length, angle = polar_vector[0], polar_vector[1]\n",
    "    return (length*cos(angle), length*sin(angle))\n",
    "\n",
    "angle = 37*pi/180\n",
    "to_cartesian((15, angle))"
   ]
  }
 ],
 "metadata": {
  "kernelspec": {
   "display_name": "Python 3",
   "language": "python",
   "name": "python3"
  },
  "language_info": {
   "codemirror_mode": {
    "name": "ipython",
    "version": 3
   },
   "file_extension": ".py",
   "mimetype": "text/x-python",
   "name": "python",
   "nbconvert_exporter": "python",
   "pygments_lexer": "ipython3",
   "version": "3.11.2"
  },
  "orig_nbformat": 4
 },
 "nbformat": 4,
 "nbformat_minor": 2
}
